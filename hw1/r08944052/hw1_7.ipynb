{
 "cells": [
  {
   "cell_type": "code",
   "execution_count": 1,
   "metadata": {},
   "outputs": [],
   "source": [
    "import numpy as np\n",
    "import pandas as pd \n",
    "import random as rd\n",
    "import matplotlib.pyplot as plt\n",
    "from statistics import mean "
   ]
  },
  {
   "cell_type": "code",
   "execution_count": 3,
   "metadata": {},
   "outputs": [],
   "source": [
    "#Loading and parsing data funciton\n",
    "def load_data(fname):\n",
    "    X=[]\n",
    "    Y=[]\n",
    "    f = open(fname,\"r\")\n",
    "    for i,line in enumerate(f.readlines()):\n",
    "        row = line.strip()\n",
    "        nrow = row.replace('\\t',' ')\n",
    "        row_data = nrow.split(' ')\n",
    "        X.append([])\n",
    "        for j in row_data[0:4]:\n",
    "            X[i].append(float(j))\n",
    "        Y.append(int(row_data[-1]))\n",
    "    X = np.array(X)\n",
    "    X0 = np.ones(len(X))\n",
    "    X0 = np.array(X0).reshape(len(X),1)\n",
    "    X = np.concatenate((X0,X),axis=1)\n",
    "    Y = np.array(Y)\n",
    "    return X,Y"
   ]
  },
  {
   "cell_type": "code",
   "execution_count": 4,
   "metadata": {},
   "outputs": [],
   "source": [
    "def shuffle(X,Y):\n",
    "    id = [x for x in range(len(X))]\n",
    "    ShuffleX = []\n",
    "    ShuffleY = []\n",
    "    rd.shuffle(id)\n",
    "    for i in id:\n",
    "        ShuffleX.append(X[i])\n",
    "        ShuffleY.append(Y[i])\n",
    "    return ShuffleX,ShuffleY"
   ]
  },
  {
   "cell_type": "code",
   "execution_count": 5,
   "metadata": {},
   "outputs": [],
   "source": [
    "def sign(xt,wt):\n",
    "    if np.dot(xt,wt)>0:\n",
    "        return 1\n",
    "    else:\n",
    "        return -1"
   ]
  },
  {
   "cell_type": "code",
   "execution_count": 6,
   "metadata": {},
   "outputs": [],
   "source": [
    "def getErrorRate(X,Y,W_t):\n",
    "    Error=0\n",
    "    for i in range(len(X)):\n",
    "        if sign(X[i],W_t) != Y[i]:\n",
    "            Error+=1\n",
    "    return Error/len(X)"
   ]
  },
  {
   "cell_type": "code",
   "execution_count": 28,
   "metadata": {},
   "outputs": [],
   "source": [
    "def pocketPLA(X,Y,W,iteration):\n",
    "    index = 0\n",
    "    iter = 1\n",
    "    Error = getErrorRate(X,Y,W)\n",
    "    while(iter<iteration):\n",
    "        if sign(X[index],W) != Y[index]: \n",
    "            W = W+Y[index]*X[index]\n",
    "            Error_t = getErrorRate(X,Y,W)\n",
    "\n",
    "            if Error_t<Error:\n",
    "                Error = Error_t\n",
    "                W_pocket = W\n",
    "            iter += 1\n",
    "\n",
    "        if index == len(X)-1:\n",
    "            index = 0\n",
    "        else:\n",
    "            index += 1\n",
    "    return W_pocket"
   ]
  },
  {
   "cell_type": "code",
   "execution_count": 38,
   "metadata": {},
   "outputs": [],
   "source": [
    "X_train,Y_train = load_data(\"hw1_7_train.dat\")\n",
    "W = np.zeros(5)\n",
    "np.array(W).reshape(5,1)\n",
    "X_test,Y_test = load_data(\"hw1_7_test.dat\")"
   ]
  },
  {
   "cell_type": "code",
   "execution_count": 41,
   "metadata": {},
   "outputs": [],
   "source": [
    "eval = []\n",
    "for i in range(1126):\n",
    "    random = rd.randint(0,9999)\n",
    "    rd.seed(random)\n",
    "    x,y = shuffle(X_train,Y_train)\n",
    "    W_pocket = pocketPLA(x,y,W,100)\n",
    "    test_error = getErrorRate(X_test,Y_test,W_pocket)\n",
    "    eval.append(test_error)"
   ]
  },
  {
   "cell_type": "code",
   "execution_count": 49,
   "metadata": {},
   "outputs": [
    {
     "name": "stdout",
     "output_type": "stream",
     "text": [
      "The average error rate on the test set is  0.11490230905861457\n"
     ]
    },
    {
     "data": {
      "image/png": "[encoded data removed]",
      "text/plain": [
       "<Figure size 432x288 with 1 Axes>"
      ]
     },
     "metadata": {
      "needs_background": "light"
     },
     "output_type": "display_data"
    }
   ],
   "source": [
    "avg_error = mean(eval)\n",
    "print(\"The average error rate on the test set is \",avg_error)\n",
    "\n",
    "#Plot histogram to show number of test error\n",
    "plt.figure()\n",
    "plt.hist(eval,bins=20)\n",
    "plt.ylabel('Frequency')\n",
    "plt.xlabel('Error Rate')\n",
    "plt.title(r'$\\mathrm{Histogram\\ of\\ The\\ Rate\\ of\\ Test\\ Error}$')\n",
    "plt.grid(True)\n",
    "plt.show()"
   ]
  }
 ],
 "metadata": {
  "kernelspec": {
   "display_name": "Python 3",
   "language": "python",
   "name": "python3"
  },
  "language_info": {
   "codemirror_mode": {
    "name": "ipython",
    "version": 3
   },
   "file_extension": ".py",
   "mimetype": "text/x-python",
   "name": "python",
   "nbconvert_exporter": "python",
   "pygments_lexer": "ipython3",
   "version": "3.7.4"
  },
  "varInspector": {
   "cols": {
    "lenName": 16,
    "lenType": 16,
    "lenVar": 40
   },
   "kernels_config": {
    "python": {
     "delete_cmd_postfix": "",
     "delete_cmd_prefix": "del ",
     "library": "var_list.py",
     "varRefreshCmd": "print(var_dic_list())"
    },
    "r": {
     "delete_cmd_postfix": ") ",
     "delete_cmd_prefix": "rm(",
     "library": "var_list.r",
     "varRefreshCmd": "cat(var_dic_list()) "
    }
   },
   "types_to_exclude": [
    "module",
    "function",
    "builtin_function_or_method",
    "instance",
    "_Feature"
   ],
   "window_display": false
  }
 },
 "nbformat": 4,
 "nbformat_minor": 2
}
