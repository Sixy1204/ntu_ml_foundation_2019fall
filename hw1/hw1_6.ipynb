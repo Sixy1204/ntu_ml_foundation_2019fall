{
 "cells": [
  {
   "cell_type": "code",
   "execution_count": 1,
   "metadata": {},
   "outputs": [],
   "source": [
    "import numpy as np\n",
    "import pandas as pd \n",
    "import random as rd\n",
    "import matplotlib.pyplot as plt\n",
    "import plotly.express as px\n",
    "from statistics import mean "
   ]
  },
  {
   "cell_type": "code",
   "execution_count": 2,
   "metadata": {},
   "outputs": [],
   "source": [
    "#Loading and parsing data funciton\n",
    "def load_data(fname):\n",
    "    X=[]\n",
    "    Y=[]\n",
    "    f = open(fname,\"r\")\n",
    "    for i,line in enumerate(f.readlines()):\n",
    "        row = line.strip()\n",
    "        nrow = row.replace('\\t',' ')\n",
    "        row_data = nrow.split(' ')\n",
    "        X.append([])\n",
    "        for j in row_data[0:4]:\n",
    "            X[i].append(float(j))\n",
    "        Y.append(int(row_data[-1]))\n",
    "    X = np.array(X)\n",
    "    X0 = np.ones(len(X))\n",
    "    X0 = np.array(X0).reshape(len(X),1)\n",
    "    X = np.concatenate((X0,X),axis=1)\n",
    "    Y = np.array(Y)\n",
    "    return X,Y"
   ]
  },
  {
   "cell_type": "code",
   "execution_count": 3,
   "metadata": {},
   "outputs": [],
   "source": [
    "def sign(xt,wt):\n",
    "    if np.dot(xt,wt)>0:\n",
    "        return 1\n",
    "    else:\n",
    "        return -1"
   ]
  },
  {
   "cell_type": "code",
   "execution_count": 4,
   "metadata": {},
   "outputs": [],
   "source": [
    "def PLA(X,Y,W):\n",
    "    updates = 0\n",
    "    CorrectNum = 0 #Accumulate number of correct classification through training \n",
    "    index = 0 #Current (X,Y) sample\n",
    "    flag = False # Mark when to stop updating\n",
    "    while(not flag):\n",
    "        if sign(X[index],W) == Y[index]:  \n",
    "            CorrectNum += 1\n",
    "        else:\n",
    "            W=W+Y[index]*X[index]\n",
    "            updates+=1\n",
    "            CorrectNum = 0  \n",
    "            \n",
    "       #If we visited whole sample but don't find the \"perfect line\" \n",
    "       #continue update through the dataset until answer go all correct\n",
    "        if(index == len(X)-1): \n",
    "            index = 0\n",
    "        else:\n",
    "            index += 1\n",
    "        \n",
    "        if CorrectNum == len(X):\n",
    "            flag = True\n",
    "    \n",
    "    return W,updates"
   ]
  },
  {
   "cell_type": "code",
   "execution_count": 5,
   "metadata": {},
   "outputs": [],
   "source": [
    "def shuffle():\n",
    "    id = [x for x in range(len(X))]\n",
    "    ShuffleX = []\n",
    "    ShuffleY = []\n",
    "    rd.shuffle(id)\n",
    "    for i in id:\n",
    "        ShuffleX.append(X[i])\n",
    "        ShuffleY.append(Y[i])\n",
    "    return ShuffleX,ShuffleY"
   ]
  },
  {
   "cell_type": "code",
   "execution_count": 6,
   "metadata": {
    "scrolled": true
   },
   "outputs": [
    {
     "data": {
      "text/plain": [
       "array([[0.],\n",
       "       [0.],\n",
       "       [0.],\n",
       "       [0.],\n",
       "       [0.]])"
      ]
     },
     "execution_count": 6,
     "metadata": {},
     "output_type": "execute_result"
    }
   ],
   "source": [
    "X,Y = load_data(\"hw1_6_train.dat\")\n",
    "W = np.zeros(5)\n",
    "np.array(W).reshape(5,1)"
   ]
  },
  {
   "cell_type": "code",
   "execution_count": 7,
   "metadata": {},
   "outputs": [
    {
     "data": {
      "text/plain": [
       "\"\\ndf = pd.DataFrame(X)\\ncolumn_indices = [1,2,3,4]\\nnew_names = ['x1','x2','x3','x4']\\nold_names = df.columns[column_indices]\\ndf.rename(columns=dict(zip(old_names, new_names)), inplace=True)\\ndf['y'] =  Y\\nfig = px.scatter_3d(df, x='x1', y='x2', z='x3',\\n              color='x4', symbol='y')\\nfig.show()\\n\""
      ]
     },
     "execution_count": 7,
     "metadata": {},
     "output_type": "execute_result"
    }
   ],
   "source": [
    "#It's hard to visualize raw data but you can try code below (Have fun with interaction)\n",
    "'''\n",
    "df = pd.DataFrame(X)\n",
    "column_indices = [1,2,3,4]\n",
    "new_names = ['x1','x2','x3','x4']\n",
    "old_names = df.columns[column_indices]\n",
    "df.rename(columns=dict(zip(old_names, new_names)), inplace=True)\n",
    "df['y'] =  Y\n",
    "fig = px.scatter_3d(df, x='x1', y='x2', z='x3',\n",
    "              color='x4', symbol='y')\n",
    "fig.show()\n",
    "'''\n"
   ]
  },
  {
   "cell_type": "code",
   "execution_count": 8,
   "metadata": {},
   "outputs": [],
   "source": [
    "save_update = []\n",
    "save_W = [] \n",
    "for i in range(1126):\n",
    "    random = rd.randint(0,9999)\n",
    "    rd.seed(random)\n",
    "    x,y = shuffle()\n",
    "    train_w,train_u = PLA(x,y,W)\n",
    "    save_update.append(train_u)\n",
    "    save_W.append(train_w)"
   ]
  },
  {
   "cell_type": "code",
   "execution_count": 9,
   "metadata": {},
   "outputs": [
    {
     "name": "stdout",
     "output_type": "stream",
     "text": [
      "The average number of updates is  39.22113676731794\n"
     ]
    },
    {
     "data": {
      "image/png": "[encoded data removed]",
      "text/plain": [
       "<Figure size 432x288 with 1 Axes>"
      ]
     },
     "metadata": {
      "needs_background": "light"
     },
     "output_type": "display_data"
    }
   ],
   "source": [
    "#Print average number of updates\n",
    "avg_updates  = mean(save_update)\n",
    "print(\"The average number of updates is \",avg_updates)\n",
    "\n",
    "#Plot histogram to show number of updates\n",
    "plt.figure()\n",
    "plt.hist(save_update,bins=20)\n",
    "plt.ylabel('Frequency')\n",
    "plt.xlabel('The Number of Updates')\n",
    "plt.title(r'$\\mathrm{Histogram\\ of\\ The\\ Number\\ of\\ Updates}$')\n",
    "plt.grid(True)\n",
    "plt.show()"
   ]
  }
 ],
 "metadata": {
  "kernelspec": {
   "display_name": "Python 3",
   "language": "python",
   "name": "python3"
  },
  "language_info": {
   "codemirror_mode": {
    "name": "ipython",
    "version": 3
   },
   "file_extension": ".py",
   "mimetype": "text/x-python",
   "name": "python",
   "nbconvert_exporter": "python",
   "pygments_lexer": "ipython3",
   "version": "3.7.4"
  },
  "varInspector": {
   "cols": {
    "lenName": 16,
    "lenType": 16,
    "lenVar": 40
   },
   "kernels_config": {
    "python": {
     "delete_cmd_postfix": "",
     "delete_cmd_prefix": "del ",
     "library": "var_list.py",
     "varRefreshCmd": "print(var_dic_list())"
    },
    "r": {
     "delete_cmd_postfix": ") ",
     "delete_cmd_prefix": "rm(",
     "library": "var_list.r",
     "varRefreshCmd": "cat(var_dic_list()) "
    }
   },
   "position": {
    "height": "168.323px",
    "left": "822px",
    "right": "20px",
    "top": "123px",
    "width": "350.99px"
   },
   "types_to_exclude": [
    "module",
    "function",
    "builtin_function_or_method",
    "instance",
    "_Feature"
   ],
   "window_display": false
  }
 },
 "nbformat": 4,
 "nbformat_minor": 2
}
