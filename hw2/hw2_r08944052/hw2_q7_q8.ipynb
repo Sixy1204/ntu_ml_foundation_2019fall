{
 "cells": [
  {
   "cell_type": "code",
   "execution_count": 1,
   "metadata": {},
   "outputs": [],
   "source": [
    "import random\n",
    "import numpy as np\n",
    "import matplotlib.pyplot as plt"
   ]
  },
  {
   "cell_type": "code",
   "execution_count": 2,
   "metadata": {},
   "outputs": [],
   "source": [
    "def sign(x):\n",
    "    if x > 0:\n",
    "        return 1\n",
    "    else:\n",
    "        return -1 "
   ]
  },
  {
   "cell_type": "code",
   "execution_count": 3,
   "metadata": {},
   "outputs": [],
   "source": [
    "def data_generator(data_size):\n",
    "    data = np.zeros((data_size, 2))\n",
    "    for i in range(data_size):\n",
    "        data[i][0] = random.uniform(-1, 1)\n",
    "        if random.uniform(0, 1) <= 0.2: # noise flips the result with 20% probability\n",
    "            data[i][1] = -1.0 * sign(data[i][0])\n",
    "        else:\n",
    "            data[i][1] = sign(data[i][0])\n",
    "    return data"
   ]
  },
  {
   "cell_type": "code",
   "execution_count": 4,
   "metadata": {},
   "outputs": [],
   "source": [
    "def decision_stump(data):\n",
    "    data = data[np.argsort(data[:, 0])] \n",
    "    min_E_in = 1.0\n",
    "    h= {\"s\": 0, \"theta\": 0}\n",
    "\n",
    "    for s in [-1,1]:\n",
    "        for i in range(len(data) + 1):\n",
    "            if i == 0:\n",
    "                theta = -1.0\n",
    "            elif i == len(data):\n",
    "                theta = 1.0\n",
    "            else:\n",
    "                theta = (data[i][0] + data[i-1][0]) / 2\n",
    "\n",
    "            hx = []\n",
    "            for j in range(len(data)):\n",
    "                predict = s * sign(data[j][0] - theta)\n",
    "                hx.append(predict)\n",
    "            \n",
    "            err_rate = np.mean(hx != data[:, 1]) #element-wise comparison\n",
    "            if err_rate < min_E_in:\n",
    "                min_E_in = err_rate\n",
    "                h[\"s\"] = s\n",
    "                h[\"theta\"] = theta\n",
    "\n",
    "    E_out = 0.5 + 0.3 * h[\"s\"] * (abs(h[\"theta\"]) - 1)\n",
    "\n",
    "    return min_E_in, E_out\n"
   ]
  },
  {
   "cell_type": "code",
   "execution_count": 5,
   "metadata": {},
   "outputs": [],
   "source": [
    "Iter = 1000\n",
    "data_size = 20\n",
    "E_in_out = np.zeros((Iter, 2))\n",
    "for i in range(Iter):\n",
    "    data = data_generator(data_size)\n",
    "    E_in_out[i][0], E_in_out[i][1] = decision_stump(data)\n",
    "\n",
    "diff = E_in_out[:, 0] - E_in_out[:, 1]\n",
    "avg_E_in = sum(E_in_out[:, 0]) / Iter\n",
    "avg_E_out = sum(E_in_out[:, 1]) / Iter"
   ]
  },
  {
   "cell_type": "code",
   "execution_count": 6,
   "metadata": {},
   "outputs": [
    {
     "name": "stdout",
     "output_type": "stream",
     "text": [
      "Average_E_in = 0.172150\n",
      "Average_E_out = 0.261397\n",
      "Ein-Eout= -0.08924698767773112\n"
     ]
    },
    {
     "data": {
      "image/png": "[encoded data removed]",
      "text/plain": [
       "<Figure size 432x288 with 1 Axes>"
      ]
     },
     "metadata": {
      "needs_background": "light"
     },
     "output_type": "display_data"
    }
   ],
   "source": [
    "print(\"Average_E_in = %lf\" % avg_E_in)\n",
    "print(\"Average_E_out = %lf\" % avg_E_out)\n",
    "print(\"Ein-Eout=\",(avg_E_in-avg_E_out))\n",
    "plt.hist(diff, bins='auto')\n",
    "plt.title('Histogram')\n",
    "plt.xlabel('E_in - E_out')\n",
    "plt.ylabel('frequency')\n",
    "plt.show()"
   ]
  }
 ],
 "metadata": {
  "kernelspec": {
   "display_name": "Python 3",
   "language": "python",
   "name": "python3"
  },
  "language_info": {
   "codemirror_mode": {
    "name": "ipython",
    "version": 3
   },
   "file_extension": ".py",
   "mimetype": "text/x-python",
   "name": "python",
   "nbconvert_exporter": "python",
   "pygments_lexer": "ipython3",
   "version": "3.7.4"
  },
  "varInspector": {
   "cols": {
    "lenName": 16,
    "lenType": 16,
    "lenVar": 40
   },
   "kernels_config": {
    "python": {
     "delete_cmd_postfix": "",
     "delete_cmd_prefix": "del ",
     "library": "var_list.py",
     "varRefreshCmd": "print(var_dic_list())"
    },
    "r": {
     "delete_cmd_postfix": ") ",
     "delete_cmd_prefix": "rm(",
     "library": "var_list.r",
     "varRefreshCmd": "cat(var_dic_list()) "
    }
   },
   "types_to_exclude": [
    "module",
    "function",
    "builtin_function_or_method",
    "instance",
    "_Feature"
   ],
   "window_display": false
  }
 },
 "nbformat": 4,
 "nbformat_minor": 2
}
